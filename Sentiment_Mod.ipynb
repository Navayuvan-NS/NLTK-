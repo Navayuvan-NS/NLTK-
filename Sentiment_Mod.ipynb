{
 "cells": [
  {
   "cell_type": "markdown",
   "metadata": {},
   "source": [
    "## Importing the required Libraries "
   ]
  },
  {
   "cell_type": "code",
   "execution_count": 3,
   "metadata": {},
   "outputs": [],
   "source": [
    "import nltk\n",
    "import random\n",
    "from nltk.classify.scikitlearn import SklearnClassifier\n",
    "import pickle\n",
    "from sklearn.naive_bayes import MultinomialNB, BernoulliNB\n",
    "from sklearn.linear_model import LogisticRegression, SGDClassifier\n",
    "from sklearn.svm import SVC, LinearSVC, NuSVC\n",
    "from nltk.classify import ClassifierI\n",
    "from statistics import mode\n",
    "from nltk.tokenize import word_tokenize"
   ]
  },
  {
   "cell_type": "markdown",
   "metadata": {},
   "source": [
    "## Defining Class for vote classifier "
   ]
  },
  {
   "cell_type": "code",
   "execution_count": 7,
   "metadata": {},
   "outputs": [],
   "source": [
    "class VoteClassifier(ClassifierI):\n",
    "    def __init__(self, *classifiers):\n",
    "        self._classifiers = classifiers\n",
    "\n",
    "    def classify(self, features):\n",
    "        votes = []\n",
    "        for c in self._classifiers:\n",
    "            v = c.classify(features)\n",
    "            votes.append(v)\n",
    "        return mode(votes)\n",
    "\n",
    "    def confidence(self, features):\n",
    "        votes = []\n",
    "        for c in self._classifiers:\n",
    "            v = c.classify(features)\n",
    "            votes.append(v)\n",
    "\n",
    "        choice_votes = votes.count(mode(votes))\n",
    "        conf = choice_votes / len(votes)\n",
    "        return conf"
   ]
  },
  {
   "cell_type": "markdown",
   "metadata": {},
   "source": [
    "## Load all our pickled algos and data"
   ]
  },
  {
   "cell_type": "code",
   "execution_count": 20,
   "metadata": {},
   "outputs": [],
   "source": [
    "algo = open(\"documents.pickle\",\"rb\")\n",
    "documents = pickle.load(algo)\n",
    "algo.close()\n",
    "\n",
    "algo = open(\"features.pickle\",\"rb\")\n",
    "word_features = pickle.load(algo)\n",
    "algo.close()\n",
    "\n",
    "algo = open(\"naivebayes.pickle\",\"rb\")\n",
    "classifier = pickle.load(algo)\n",
    "algo.close()\n",
    "\n",
    "algo = open(\"Bernouli.pickle\",\"rb\")\n",
    "BernoulliNB_classifier = pickle.load(algo)\n",
    "algo.close()\n",
    "\n",
    "algo = open(\"LogisticRegression.pickle\",\"rb\")\n",
    "LogisticRegression_classifier = pickle.load(algo)\n",
    "algo.close()\n",
    "\n",
    "algo = open(\"SGDClassifier.pickle\",\"rb\")\n",
    "SDGClassifier_classifier = pickle.load(algo)\n",
    "algo.close()\n",
    "\n",
    "algo = open(\"MNB.pickle\",\"rb\")\n",
    "MNB_classifier = pickle.load(algo)\n",
    "algo.close()\n",
    "\n",
    "algo = open(\"NuSVC.pickle\",\"rb\")\n",
    "NuSVC_classifier = pickle.load(algo)\n",
    "algo.close()\n",
    "\n",
    "algo = open(\"SVC.pickle\",\"rb\")\n",
    "SVC_classifier = pickle.load(algo)\n",
    "algo.close()\n",
    "\n",
    "algo = open(\"LinearSVC.pickle\",\"rb\")\n",
    "LinearSVC_classifier = pickle.load(algo)\n",
    "algo.close()\n",
    "\n"
   ]
  },
  {
   "cell_type": "markdown",
   "metadata": {},
   "source": [
    "## Defining Featuresets function "
   ]
  },
  {
   "cell_type": "code",
   "execution_count": 15,
   "metadata": {},
   "outputs": [],
   "source": [
    "def find_features(document):\n",
    "    words = word_tokenize(document)\n",
    "    features = {}\n",
    "    for w in word_features:\n",
    "        features[w] = (w in words)\n",
    "\n",
    "    return features\n"
   ]
  },
  {
   "cell_type": "markdown",
   "metadata": {},
   "source": [
    "## Voting classifier "
   ]
  },
  {
   "cell_type": "code",
   "execution_count": 21,
   "metadata": {},
   "outputs": [],
   "source": [
    "voted_classifier = VoteClassifier(\n",
    "                                  classifier,\n",
    "                                  LinearSVC_classifier,\n",
    "                                  MNB_classifier,\n",
    "                                  BernoulliNB_classifier,\n",
    "                                  LogisticRegression_classifier)"
   ]
  },
  {
   "cell_type": "markdown",
   "metadata": {},
   "source": [
    "## Defining module function to call "
   ]
  },
  {
   "cell_type": "code",
   "execution_count": 22,
   "metadata": {},
   "outputs": [],
   "source": [
    "def sentiment(text):\n",
    "    feats = find_features(text)\n",
    "    return voted_classifier.classify(feats), voted_classifier.confidence(feats)"
   ]
  }
 ],
 "metadata": {
  "kernelspec": {
   "display_name": "Python 3",
   "language": "python",
   "name": "python3"
  },
  "language_info": {
   "codemirror_mode": {
    "name": "ipython",
    "version": 3
   },
   "file_extension": ".py",
   "mimetype": "text/x-python",
   "name": "python",
   "nbconvert_exporter": "python",
   "pygments_lexer": "ipython3",
   "version": "3.6.7"
  }
 },
 "nbformat": 4,
 "nbformat_minor": 2
}
