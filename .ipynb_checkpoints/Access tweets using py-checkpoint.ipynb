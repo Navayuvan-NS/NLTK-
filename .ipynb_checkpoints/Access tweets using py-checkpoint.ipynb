{
 "cells": [
  {
   "cell_type": "markdown",
   "metadata": {},
   "source": [
    "# Import the required classes "
   ]
  },
  {
   "cell_type": "code",
   "execution_count": 47,
   "metadata": {},
   "outputs": [],
   "source": [
    "from tweepy import Stream\n",
    "from tweepy import OAuthHandler\n",
    "from tweepy.streaming import StreamListener\n",
    "import json\n",
    "import Sentiment_Mod as s"
   ]
  },
  {
   "cell_type": "markdown",
   "metadata": {},
   "source": [
    "# Credentials "
   ]
  },
  {
   "cell_type": "code",
   "execution_count": 48,
   "metadata": {},
   "outputs": [],
   "source": [
    "ckey = ####\n",
    "csecret = ####\n",
    "atoken = ####\n",
    "asecret = ####"
   ]
  },
  {
   "cell_type": "markdown",
   "metadata": {},
   "source": [
    "# Class for listener inherits SteamListener "
   ]
  },
  {
   "cell_type": "code",
   "execution_count": 49,
   "metadata": {},
   "outputs": [],
   "source": [
    "clean = open(\"twitter-out.txt\", \"w\")\n",
    "clean.close()\n",
    "class listener (StreamListener):\n",
    "    \n",
    "    def on_data(self, data):\n",
    "        all_data = json.loads(data)\n",
    "        \n",
    "        tweet = all_data[\"text\"]\n",
    "        \n",
    "        sentiment_value, confidence = s.sentiment(tweet)\n",
    "        \n",
    "        print (tweet, sentiment_value, confidence)\n",
    "        \n",
    "        if confidence*100 > 80:\n",
    "            output = open(\"twitter-out.txt\", \"a\")\n",
    "            output.write(sentiment_value)\n",
    "            output.write('\\n')\n",
    "            output.close()\n",
    "        \n",
    "        return True\n",
    "    \n",
    "    def on_error(self, status):\n",
    "        print (status)\n",
    "        "
   ]
  },
  {
   "cell_type": "markdown",
   "metadata": {},
   "source": [
    "# Make an authentication "
   ]
  },
  {
   "cell_type": "code",
   "execution_count": 50,
   "metadata": {},
   "outputs": [],
   "source": [
    "auth = OAuthHandler(ckey, csecret)\n",
    "auth.set_access_token(atoken, asecret)"
   ]
  },
  {
   "cell_type": "markdown",
   "metadata": {},
   "source": [
    "# Make a stream "
   ]
  },
  {
   "cell_type": "code",
   "execution_count": null,
   "metadata": {},
   "outputs": [
    {
     "name": "stdout",
     "output_type": "stream",
     "text": [
      "RT @TheCurvyCritic: Disney Could Begin Developing New Marvel X-Men Films In The First Half Of 2019 https://t.co/5uruc0SZpm neg 0.8\n",
      "RT @CustosAmicus: Rt this tweet to join a Marvel ic gc.\n",
      "\n",
      "Rules:\n",
      "-OCs are obviously welcome\n",
      "-No disgusting ships\n",
      "-No lewd\n",
      "-No ooc drama\n",
      "-Hav… neg 1.0\n",
      "RT @OriginalFunko: RT &amp; follow @OriginalFunko for a chance to WIN a Marvel Collector Corps #XMen Box!\n",
      "📦The MCC: X-Men box closes 1/27/19 ht… neg 0.8\n",
      "I just added Marvel's The Def... to my library! #tvtime https://t.co/RRxxSqa67e https://t.co/19JOsjzZvU pos 0.8\n",
      "Google Maps recognizes the famous address of Doctor Strange's Sanctum Sanctorum:\n",
      "\n",
      "https://t.co/JWK8Jth1ro https://t.co/b0H2LyDdqw pos 1.0\n",
      "RT @thegrandtour: Marvel at the magnificence of the Trump Truck. #TheGrandTour https://t.co/OsNUHyTnbQ neg 0.8\n",
      "RT @DilutedZuluGirl: @ReasonHD That’s a Marvel movie. Marvel could release a movie with Thanos playing morabaraba with infinity stones and… pos 0.8\n",
      "RT @Lunar_Bunni: Frank Castle gets me. #relatable #FrankCastle #ThePunisher #Marvel #Netflix https://t.co/NSqQOuBDBJ neg 0.8\n",
      "Funko POP! Marvel: Spider-Man, Spider-Man Homemade Suit Unmasked, Walmart Exclusive https://t.co/NiBwfe5QTv neg 0.8\n",
      "RT @OriginalFunko: RT &amp; follow @OriginalFunko for a chance to WIN a Marvel Collector Corps #XMen Box!\n",
      "📦The MCC: X-Men box closes 1/27/19 ht… neg 0.8\n",
      "RT @hyoyeonsubs2: KANG DANIEL!! truly Disney Prince face with Marvel Hero body!!! His face is just so soft like a fluffy puppy🤗🤗😘😘😍😘 neg 1.0\n",
      "RT @brielarson: https://t.co/QJTvw126rs neg 0.8\n",
      "Marvel: Infinity War is the greatest crossover of all time.\n",
      "\n",
      "Warner Bros: hold my beer pos 1.0\n",
      "RT @crismurfit: @miccaiza si se han propuesto hacer estas series, se va con todo. \n",
      "\n",
      "si no, que se hubieran quedado en las películas y no no… pos 1.0\n",
      "I want to #win a tasty Milkshake Bundle with @SMABLblog @shakenudder #giveaway https://t.co/CyHNSk9wgX pos 1.0\n",
      "RT @sama_shirogane: [ Hey, Guys! I'm from another dimension ] \n",
      "\n",
      "Gwen by me \n",
      "Ph by @OvsyanArt \n",
      "\n",
      "#spidergwen #gwenstacy #cosplay #marvel #Spi… neg 1.0\n",
      "@BullPau1 Black Panther no merece ni que la nombren en la gala, es mala de cojones y echa para los SJW, Marvel tiro… https://t.co/FgfWYHzvcZ pos 1.0\n",
      "RT @airtattoo: It's time to plan the next family adventure!\n",
      "\n",
      "A day trip to the Air Tattoo is the perfect day out for the whole family. Marv… pos 1.0\n",
      "コケそうで心配…\n",
      "MARVELだからって何でも実写化すればいいってわけじゃないのに… neg 0.8\n",
      "RT @SunnyLeone: Cap'n Marvel reporting for duty!!\n",
      "\n",
      "#SunnyLeone #SplitsvillaXI @MTVSplitsvilla #TestYourBond https://t.co/i79EXZduPT neg 0.8\n",
      "RT @peterxcastle: hi I’m new account so I’m looking for mutuals ! rt/ like if you stan\n",
      "\n",
      "- basically all the marvel actors \n",
      "- Marvel Netflix… neg 1.0\n",
      "RT @OriginalFunko: RT &amp; follow @OriginalFunko for a chance to WIN a Marvel Collector Corps #XMen Box!\n",
      "📦The MCC: X-Men box closes 1/27/19 ht… neg 0.8\n",
      "RT @gaypixar: passando pra avisar que esse ano ainda tem\n",
      "\n",
      "rei leão\n",
      "dumbo\n",
      "frozen 2\n",
      "toy story 4\n",
      "vingadores 4\n",
      "fênix negra\n",
      "shrek 5\n",
      "nárnia a cad… pos 1.0\n",
      "RT @wdw_ph: 🇵🇭🇵🇭🇵🇭\n",
      "\n",
      "#Limelights #iHeartAwards #BestFanArmy https://t.co/o4HWlXQLdW neg 0.8\n",
      "RT @LOFT_UMEDA: 【#MARVEL UMEDA ROUND 2019】\n",
      "\n",
      "1階 入口(ジュンク堂書店側)に設置の #スパイダーマン の等身大フィギュアと一緒に写真を撮ろう✨📸\n",
      "\n",
      "また、グランフロント大阪にて開催中の #マーベル展 特別優待割引券も1階店頭にて配布中… neg 0.8\n",
      "RT @221BHater: ¿Por qué toda la gente de twitter sois putos dioses y diosas y yo un adefesio? https://t.co/cHtdUNqBx2 pos 1.0\n",
      "RT @elpais_retina: Marvel emplea data experience para determinar qué historias son más atractivas en sus películas y qué evolución deberán… pos 1.0\n",
      "#PS4live (Marvel's Spider-Man)  live at https://t.co/03kpdvjsUY neg 0.6\n",
      "RT @ComicBook: Google Maps recognizes the famous address of Doctor Strange's Sanctum Sanctorum:\n",
      "\n",
      "https://t.co/JWK8Jth1ro https://t.co/b0H2L… pos 1.0\n",
      "RT @PointoofView: ธง Confiderate ของ Confiderate State of America ช่วง Civil War (ไม่ใช่ Marvel) อเมกาตีกันเองระหว่างฝั่งจะเลิกกับไม่เลิกทา… neg 0.8\n",
      "RT @sama_shirogane: [ Hey, Guys! I'm from another dimension ] \n",
      "\n",
      "Gwen by me \n",
      "Ph by @OvsyanArt \n",
      "\n",
      "#spidergwen #gwenstacy #cosplay #marvel #Spi… neg 1.0\n",
      "RT @OriginalFunko: RT &amp; follow @OriginalFunko for a chance to WIN a Marvel Collector Corps #XMen Box!\n",
      "📦The MCC: X-Men box closes 1/27/19 ht… neg 0.8\n",
      "RT @PutariaSincesa: passando pra avisar que esse ano ainda tem\n",
      "\n",
      "rei leão\n",
      "dumbo\n",
      "frozen 2\n",
      "toy story 4\n",
      "vingadores 4\n",
      "fênix negra\n",
      "shrek 5\n",
      "nárnia… pos 1.0\n",
      "RT @MyloBrizuela: Quién crees que sea más poderoso? 🤔\n",
      "RT Thor\n",
      "❤️ Capitana Marvel https://t.co/a4SDcmMlGN pos 1.0\n",
      "RT @dhh: The web isn’t just another software platform. It’s the greatest software platform the world has ever seen. No permissions, no mast… pos 1.0\n",
      "RT @brielarson: https://t.co/QJTvw126rs neg 0.8\n",
      "I just added Marvel's The Pun... to my library! #tvtime https://t.co/SI1vbak6On https://t.co/hYtb3v2Hu5 pos 0.8\n",
      "RT @PointoofView: ธง Confiderate ของ Confiderate State of America ช่วง Civil War (ไม่ใช่ Marvel) อเมกาตีกันเองระหว่างฝั่งจะเลิกกับไม่เลิกทา… neg 0.8\n",
      "RT @PointoofView: ธง Confiderate ของ Confiderate State of America ช่วง Civil War (ไม่ใช่ Marvel) อเมกาตีกันเองระหว่างฝั่งจะเลิกกับไม่เลิกทา… neg 0.8\n",
      "RT @brielarson: https://t.co/QJTvw126rs neg 0.8\n",
      "RT @brielarson: https://t.co/QJTvw126rs neg 0.8\n",
      "RT @PointoofView: ธง Confiderate ของ Confiderate State of America ช่วง Civil War (ไม่ใช่ Marvel) อเมกาตีกันเองระหว่างฝั่งจะเลิกกับไม่เลิกทา… neg 0.8\n",
      "RT @sama_shirogane: [ Hey, Guys! I'm from another dimension ] \n",
      "\n",
      "Gwen by me \n",
      "Ph by @OvsyanArt \n",
      "\n",
      "#spidergwen #gwenstacy #cosplay #marvel #Spi… neg 1.0\n",
      "So good I had to share! Check out all the items I'm loving on @Poshmarkapp #poshmark #fashion #style #shopmycloset… https://t.co/WYtrQ6bSO7 pos 0.8\n",
      "RT @marvel_jp: #MARVEL UMEDA ROUND 2019 デジタルクイズラリーに参加しよう！\n",
      "大阪・梅田エリア9箇所のスポットを回り #マーベル のクイズに正解しスタンプを集めると…抽選でステキな賞品が当たる✨\n",
      "\n",
      "2/17まで開催中！（※最終日は18:00… neg 0.8\n",
      "RT @sama_shirogane: [ Hey, Guys! I'm from another dimension ] \n",
      "\n",
      "Gwen by me \n",
      "Ph by @OvsyanArt \n",
      "\n",
      "#spidergwen #gwenstacy #cosplay #marvel #Spi… neg 1.0\n",
      "RT @PointoofView: ธง Confiderate ของ Confiderate State of America ช่วง Civil War (ไม่ใช่ Marvel) อเมกาตีกันเองระหว่างฝั่งจะเลิกกับไม่เลิกทา… neg 0.8\n",
      "RT @wyattyhalpert: Remember when Zack Snyder called Ant-Man flavour of the week and everyone raged so Marvel proved him wrong by making two… neg 1.0\n",
      "RT @OriginalFunko: RT &amp; follow @OriginalFunko for a chance to WIN a Marvel Collector Corps #XMen Box!\n",
      "📦The MCC: X-Men box closes 1/27/19 ht… neg 0.8\n",
      "RT @dhh: The web isn’t just another software platform. It’s the greatest software platform the world has ever seen. No permissions, no mast… pos 1.0\n",
      "ケースMARVELのやつも良かったけどアリスにした neg 0.8\n",
      "Marvel, all the way! https://t.co/NpyJ5I3Q4u neg 0.8\n",
      "RT @PointoofView: ธง Confiderate ของ Confiderate State of America ช่วง Civil War (ไม่ใช่ Marvel) อเมกาตีกันเองระหว่างฝั่งจะเลิกกับไม่เลิกทา… neg 0.8\n",
      "not all #Overwatch cosers entered the competition though, but here they are with Jonny Cruz and Ario (an artist fro… https://t.co/nQZE8KPrMk neg 0.8\n",
      "GOOGLE MAPS recognizes the famous address of DOCTOR STRANGE'S SANCTUM SANCTORUM:\n",
      "\n",
      "https://t.co/PLZjzeSwBP https://t.co/8b1ugFosM1 pos 1.0\n",
      "RT @ComicBook: Google Maps recognizes the famous address of Doctor Strange's Sanctum Sanctorum:\n",
      "\n",
      "https://t.co/JWK8Jth1ro https://t.co/b0H2L… pos 1.0\n",
      "MARVEL展行ってきた https://t.co/qrZxXyRY7d neg 0.8\n",
      "Мне понравилось видео \"В чем секрет Человека-Паука от Marvel Studios?\" neg 0.8\n",
      "RT @SunnyLeone: Cap'n Marvel reporting for duty!!\n",
      "\n",
      "#SunnyLeone #SplitsvillaXI @MTVSplitsvilla #TestYourBond https://t.co/i79EXZduPT neg 0.8\n",
      "インフィニティワープスを「ヒーロー同士がランダム悪魔合体した(アトラス脳)」としか理解してなかったけど楽しめましたよアラクナイト！ 全2巻！ \n",
      "https://t.co/6IlTrS0M73 neg 0.8\n",
      "RT @sama_shirogane: [ Hey, Guys! I'm from another dimension ] \n",
      "\n",
      "Gwen by me \n",
      "Ph by @OvsyanArt \n",
      "\n",
      "#spidergwen #gwenstacy #cosplay #marvel #Spi… neg 1.0\n"
     ]
    }
   ],
   "source": [
    "twitterstream = Stream(auth, listener())\n",
    "twitterstream.filter(track=[\"Marvel\"])"
   ]
  }
 ],
 "metadata": {
  "kernelspec": {
   "display_name": "Python 3",
   "language": "python",
   "name": "python3"
  },
  "language_info": {
   "codemirror_mode": {
    "name": "ipython",
    "version": 3
   },
   "file_extension": ".py",
   "mimetype": "text/x-python",
   "name": "python",
   "nbconvert_exporter": "python",
   "pygments_lexer": "ipython3",
   "version": "3.6.7"
  }
 },
 "nbformat": 4,
 "nbformat_minor": 2
}
